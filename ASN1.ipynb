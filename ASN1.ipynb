{
  "cells": [
    {
      "cell_type": "markdown",
      "metadata": {
        "id": "xu0TtZKaoLIj"
      },
      "source": [
        "# **Assignment 1: Walker2D**\n",
        "### Stefan Obradovic and Atin Srivastava\n",
        "\n",
        "\n",
        "\n"
      ]
    },
    {
      "cell_type": "markdown",
      "metadata": {
        "id": "lXWG3r8-nXRV"
      },
      "source": [
        "\n",
        "\n",
        "---\n",
        "\n"
      ]
    },
    {
      "cell_type": "markdown",
      "metadata": {
        "id": "G-ssqL37nTRv"
      },
      "source": [
        "\n",
        "\n",
        "---\n",
        "\n"
      ]
    },
    {
      "cell_type": "code",
      "execution_count": null,
      "metadata": {
        "vscode": {
          "languageId": "plaintext"
        }
      },
      "outputs": [],
      "source": [
        "# Install and configure MuJoCo in Google Colab\n",
        "# !apt-get install -y mujoco-py\n",
        "# !pip install gymnasium[mujoco] stable-baselines3"
      ]
    },
    {
      "cell_type": "code",
      "execution_count": null,
      "metadata": {
        "vscode": {
          "languageId": "plaintext"
        }
      },
      "outputs": [],
      "source": [
        "!pip install mujoco\n",
        "!pip install stable-baselines3\n",
        "\n",
        "# Set up GPU rendering.\n",
        "from google.colab import files\n",
        "import distutils.util\n",
        "import os\n",
        "import subprocess\n",
        "\n",
        "if subprocess.run('nvidia-smi').returncode:\n",
        "  raise RuntimeError(\n",
        "      'Cannot communicate with GPU. '\n",
        "      'Make sure you are using a GPU Colab runtime. '\n",
        "      'Go to the Runtime menu and select Choose runtime type.')\n",
        "\n",
        "# Add an ICD config so that glvnd can pick up the Nvidia EGL driver.\n",
        "# This is usually installed as part of an Nvidia driver package, but the Colab\n",
        "# kernel doesn't install its driver via APT, and as a result the ICD is missing.\n",
        "# (https://github.com/NVIDIA/libglvnd/blob/master/src/EGL/icd_enumeration.md)\n",
        "\n",
        "NVIDIA_ICD_CONFIG_PATH = '/usr/share/glvnd/egl_vendor.d/10_nvidia.json'\n",
        "if not os.path.exists(NVIDIA_ICD_CONFIG_PATH):\n",
        "  with open(NVIDIA_ICD_CONFIG_PATH, 'w') as f:\n",
        "    f.write(\"\"\"{\n",
        "    \"file_format_version\" : \"1.0.0\",\n",
        "    \"ICD\" : {\n",
        "        \"library_path\" : \"libEGL_nvidia.so.0\"\n",
        "    }\n",
        "}\n",
        "\"\"\")\n",
        "\n",
        "# Configure MuJoCo to use the EGL rendering backend (requires GPU)\n",
        "print('Setting environment variable to use GPU rendering:')\n",
        "%env MUJOCO_GL=egl\n",
        "\n",
        "# Check if installation was succesful.\n",
        "try:\n",
        "  print('Checking that the installation succeeded:')\n",
        "  import mujoco\n",
        "  mujoco.MjModel.from_xml_string('<mujoco/>')\n",
        "except Exception as e:\n",
        "  raise e from RuntimeError(\n",
        "      'Something went wrong during installation. Check the shell output above '\n",
        "      'for more information.\\n'\n",
        "      'If using a hosted Colab runtime, make sure you enable GPU acceleration '\n",
        "      'by going to the Runtime menu and selecting \"Choose runtime type\".')\n",
        "\n",
        "print('Installation successful.')\n",
        "\n",
        "# Other imports and helper functions\n",
        "import time\n",
        "import itertools\n",
        "import numpy as np\n",
        "import pandas as pd\n",
        "\n",
        "# Graphics and plotting.\n",
        "print('Installing mediapy:')\n",
        "!command -v ffmpeg >/dev/null || (apt update && apt install -y ffmpeg)\n",
        "!pip install -q mediapy\n",
        "import mediapy as media\n",
        "import matplotlib.pyplot as plt\n",
        "\n",
        "# More legible printing from numpy.\n",
        "np.set_printoptions(precision=3, suppress=True, linewidth=100)\n",
        "\n",
        "import gymnasium as gym\n",
        "from stable_baselines3 import SAC\n",
        "from stable_baselines3.common.monitor import Monitor\n",
        "from stable_baselines3.common.evaluation import evaluate_policy\n",
        "\n",
        "from IPython.display import clear_output, HTML\n",
        "clear_output()\n",
        "\n",
        "from mujoco import Renderer\n",
        "from base64 import b64encode\n",
        "import imageio"
      ]
    },
    {
      "cell_type": "code",
      "execution_count": null,
      "metadata": {
        "vscode": {
          "languageId": "plaintext"
        }
      },
      "outputs": [],
      "source": [
        "# Load the Walker2d-v4 environment\n",
        "env_name = \"Walker2d-v4\"\n",
        "env = gym.make(env_name)\n",
        "env = Monitor(env)  # Monitor for logging"
      ]
    },
    {
      "cell_type": "code",
      "execution_count": null,
      "metadata": {
        "vscode": {
          "languageId": "plaintext"
        }
      },
      "outputs": [],
      "source": [
        "# Describe the observation and action spaces\n",
        "obs_space = env.observation_space\n",
        "act_space = env.action_space\n",
        "\n",
        "print(f\"Observation Space: {obs_space}\")\n",
        "print(f\"Action Space: {act_space}\")"
      ]
    },
    {
      "cell_type": "code",
      "execution_count": null,
      "metadata": {
        "vscode": {
          "languageId": "plaintext"
        }
      },
      "outputs": [],
      "source": [
        "# Reward Structure:\n",
        "# - Positive reward for forward movement\n",
        "# - Negative reward for energy usage (efficiency penalty)\n",
        "# - Large penalty for falling (termination condition)\n",
        "\n",
        "log_dir = \"./sac_walker2d/\"\n",
        "os.makedirs(log_dir, exist_ok=True)\n",
        "\n",
        "# Initialize SAC model\n",
        "model = SAC(\"MlpPolicy\", env, verbose=1, tensorboard_log=log_dir)\n",
        "\n",
        "# Train the agent\n",
        "model.learn(total_timesteps=500000, log_interval=1000)\n",
        "\n",
        "# Save the trained model\n",
        "model.save(\"sac_walker2d_model\")\n",
        "\n",
        "# Evaluate the trained agent\n",
        "def evaluate(env, model, num_episodes=10):\n",
        "    rewards = []\n",
        "    for episode in range(num_episodes):\n",
        "        obs, _ = env.reset()\n",
        "        total_reward = 0\n",
        "        done = False\n",
        "        while not done:\n",
        "            action, _states = model.predict(obs, deterministic=True)\n",
        "            obs, reward, terminated, truncated, _ = env.step(action)\n",
        "            total_reward += reward\n",
        "            done = terminated or truncated\n",
        "        rewards.append(total_reward)\n",
        "    return np.mean(rewards), np.std(rewards)\n",
        "\n",
        "mean_reward, std_reward = evaluate(env, model, num_episodes=10)\n",
        "print(f\"Evaluation over 10 episodes: Mean Reward = {mean_reward:.2f}, Std Dev = {std_reward:.2f}\")\n",
        "\n",
        "# Plot training result\n",
        "# Find monitor log file\n",
        "monitor_files = [f for f in os.listdir(log_dir) if \"monitor\" in f]\n",
        "\n",
        "if len(monitor_files) == 0:\n",
        "    raise FileNotFoundError(\"No monitor log file found. Ensure Monitor(env, log_dir) used\")\n",
        "\n",
        "monitor_file = os.path.join(log_dir, monitor_files[0])\n",
        "\n",
        "# Read training data\n",
        "monitor_data = pd.read_csv(monitor_file, skiprows=1)  # Skip the first row of metadata\n",
        "\n",
        "# Plot training rewards\n",
        "plt.figure(figsize=(10, 5))\n",
        "plt.plot(monitor_data[\"r\"], label=\"Episode Reward\")\n",
        "plt.xlabel(\"Episodes\")\n",
        "plt.ylabel(\"Reward\")\n",
        "plt.title(\"Training Performance of SAC on Walker2D\")\n",
        "plt.legend()\n",
        "plt.show()"
      ]
    },
    {
      "cell_type": "code",
      "execution_count": null,
      "metadata": {
        "vscode": {
          "languageId": "plaintext"
        }
      },
      "outputs": [],
      "source": [
        "# Render the trained agent using MuJoCo Renderer\n",
        "video_dir = \"videos\"\n",
        "os.makedirs(video_dir, exist_ok=True)\n",
        "video_path = os.path.join(video_dir, \"walker2d_sac.mp4\")\n",
        "\n",
        "env = gym.make(env_name, render_mode=\"rgb_array\")\n",
        "obs, _ = env.reset()\n",
        "frames = []\n",
        "\n",
        "# Create a new MuJoCo renderer\n",
        "mujoco_renderer = mujoco.Renderer(env.unwrapped.model, 480, 480)\n",
        "\n",
        "for _ in range(10000):\n",
        "    action, _ = model.predict(obs, deterministic=True)\n",
        "    obs, _, terminated, truncated, _ = env.step(action)\n",
        "    mujoco_renderer.update_scene(env.unwrapped.data)\n",
        "    frame = mujoco_renderer.render()\n",
        "    frames.append(frame)\n",
        "    if terminated or truncated:\n",
        "        break\n",
        "\n",
        "env.close()\n",
        "\n",
        "# Save frames as a video\n",
        "imageio.mimsave(video_path, frames, fps=10)\n",
        "\n",
        "# Function to display the video in Colab\n",
        "def show_video(video_path):\n",
        "    mp4 = open(video_path, 'rb').read()\n",
        "    data_url = \"data:video/mp4;base64,\" + b64encode(mp4).decode()\n",
        "    return HTML(f'<video width=\"640\" height=\"480\" controls><source src=\"{data_url}\" type=\"video/mp4\"></video>')\n",
        "\n",
        "# Display the video\n",
        "show_video(video_path)"
      ]
    }
  ],
  "metadata": {
    "accelerator": "GPU",
    "colab": {
      "gpuType": "T4",
      "provenance": []
    },
    "kernelspec": {
      "display_name": "Python 3",
      "name": "python3"
    },
    "language_info": {
      "codemirror_mode": {
        "name": "ipython",
        "version": 3
      },
      "file_extension": ".py",
      "mimetype": "text/x-python",
      "name": "python",
      "nbconvert_exporter": "python",
      "pygments_lexer": "ipython3",
      "version": "3.13.0"
    }
  },
  "nbformat": 4,
  "nbformat_minor": 0
}
